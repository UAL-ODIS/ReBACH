{
 "cells": [
  {
   "cell_type": "code",
   "execution_count": 3,
   "id": "7949ac9b",
   "metadata": {},
   "outputs": [],
   "source": [
    "from job import Job\n",
    "\n",
    "def run_dart(path:str,\n",
    "             bag_title:str,\n",
    "             workflow:str=\"redata_wasabi.json\",\n",
    "             output_dir:str=\"out\",\n",
    "             delete:str=\"FALSE\"\n",
    "            ):\n",
    "    \n",
    "    package_name = path + '.tar'\n",
    "    \n",
    "    job = Job(workflow, package_name, output_dir, delete)\n",
    "\n",
    "    job.add_file(path)\n",
    "    \n",
    "    \n",
    "    job.add_tag(\"bag-info.txt\", \"Source-Organization\", \"ReDATA\")\n",
    "    job.add_tag(\"aptrust-info.txt\", \"Access\", \"Institution\")\n",
    "    job.add_tag(\"aptrust-info.txt\", \"Title\", bag_title)\n",
    "\n",
    "    exit_code = job.run()\n",
    "\n",
    "    if exit_code == 0:\n",
    "        print(\"Job completed\")\n",
    "    else:\n",
    "        print(\"Job failed. Check the DART log for details.\")"
   ]
  },
  {
   "cell_type": "code",
   "execution_count": 4,
   "id": "10fc3a10",
   "metadata": {},
   "outputs": [
    {
     "name": "stdout",
     "output_type": "stream",
     "text": [
      "{\"packageName\": \"6741478_01_Fernando_Rios_f295b6a8ebbcc2fe31dad26c914736d.tar\", \"files\": [\"6741478_01_Fernando_Rios_f295b6a8ebbcc2fe31dad26c914736d\"], \"tags\": [{\"tagFile\": \"bag-info.txt\", \"tagName\": \"Source-Organization\", \"value\": \"ReDATA\"}, {\"tagFile\": \"aptrust-info.txt\", \"tagName\": \"Access\", \"value\": \"Institution\"}, {\"tagFile\": \"aptrust-info.txt\", \"tagName\": \"Title\", \"value\": \"Data and Code for \\\"Software Research Survey - 2014\\\"\"}]}\n",
      "Starting job\n",
      "{\"jobName\":\"6741478_01_Fernando_Rios_f295b6a8ebbcc2fe31dad26c914736d.tar\",\"payloadByteCount\":0,\"payloadFileCount\":0,\"succeeded\":false,\"packageResult\":{\"attempt\":0,\"completed\":\"0001-01-01T00:00:00Z\",\"errors\":{},\"fileMtime\":\"0001-01-01T00:00:00Z\",\"filepath\":\"\",\"filesize\":0,\"info\":\"\",\"operation\":\"package\",\"provider\":\"Bagger - DART Runner v0.95-beta for Darwin x86_64 (Build 37c1fa6 2022-08-11)\",\"remoteChecksum\":\"\",\"remoteURL\":\"\",\"started\":\"0001-01-01T00:00:00Z\",\"warning\":\"\"},\"validationResult\":{\"attempt\":0,\"completed\":\"0001-01-01T00:00:00Z\",\"errors\":{},\"fileMtime\":\"0001-01-01T00:00:00Z\",\"filepath\":\"\",\"filesize\":0,\"info\":\"\",\"operation\":\"validation\",\"provider\":\"Validator - DART Runner v0.95-beta for Darwin x86_64 (Build 37c1fa6 2022-08-11)\",\"remoteChecksum\":\"\",\"remoteURL\":\"\",\"started\":\"0001-01-01T00:00:00Z\",\"warning\":\"\"},\"uploadResults\":[{\"attempt\":0,\"completed\":\"0001-01-01T00:00:00Z\",\"errors\":{},\"fileMtime\":\"0001-01-01T00:00:00Z\",\"filepath\":\"\",\"filesize\":0,\"info\":\"\",\"operation\":\"upload\",\"provider\":\"Uploader - DART Runner v0.95-beta for Darwin x86_64 (Build 37c1fa6 2022-08-11)\",\"remoteChecksum\":\"\",\"remoteURL\":\"\",\"started\":\"0001-01-01T00:00:00Z\",\"warning\":\"\"}],\"validationErrors\":{\"PackageOperation.sourceFiles\":\"The following files are missing: 6741478_01_Fernando_Rios_f295b6a8ebbcc2fe31dad26c914736d\"}}\n",
      "\n",
      "Job failed. Check the DART log for details.\n"
     ]
    },
    {
     "name": "stderr",
     "output_type": "stream",
     "text": [
      "Job 6741478_01_Fernando_Rios_f295b6a8ebbcc2fe31dad26c914736d.tar encountered one or more errors. See the JSON results in stdout.\n"
     ]
    }
   ],
   "source": [
    "run_dart(\n",
    "    path=\"6741478_01_Fernando_Rios_f295b6a8ebbcc2fe31dad26c914736d\",\n",
    "    bag_title=\"Data and Code for \\\"Software Research Survey - 2014\\\"\"\n",
    ")"
   ]
  }
 ],
 "metadata": {
  "kernelspec": {
   "display_name": "Python 3 (ipykernel)",
   "language": "python",
   "name": "python3"
  },
  "language_info": {
   "codemirror_mode": {
    "name": "ipython",
    "version": 3
   },
   "file_extension": ".py",
   "mimetype": "text/x-python",
   "name": "python",
   "nbconvert_exporter": "python",
   "pygments_lexer": "ipython3",
   "version": "3.10.4"
  }
 },
 "nbformat": 4,
 "nbformat_minor": 5
}
