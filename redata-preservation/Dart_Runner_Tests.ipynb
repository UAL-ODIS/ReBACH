{
 "cells": [
  {
   "cell_type": "code",
   "execution_count": null,
   "id": "7949ac9b",
   "metadata": {},
   "outputs": [],
   "source": [
    "import os\n",
    "from job import Job\n",
    "\n",
    "def run_dart(path:str,\n",
    "             bag_title:str=\"Untitled Deposit\",\n",
    "             workflow:str=\"redata_wasabi.json\",\n",
    "             output_dir:str=\"out\",\n",
    "             delete:str=\"FALSE\",\n",
    "             dart_command:str=os.path.join(os.getcwd(), 'dart-runner')\n",
    "            ):\n",
    "    \n",
    "    package_name = path + '.tar'\n",
    "    \n",
    "    job = Job(workflow, package_name, output_dir, delete, dart_command)\n",
    "\n",
    "    job.add_file(path)\n",
    "    \n",
    "    job.add_tag(\"bag-info.txt\", \"Source-Organization\", \"ReDATA\")\n",
    "    job.add_tag(\"aptrust-info.txt\", \"Access\", \"Institution\")\n",
    "    job.add_tag(\"aptrust-info.txt\", \"Title\", bag_title)\n",
    "\n",
    "    exit_code = job.run()\n",
    "\n",
    "    if exit_code == 0:\n",
    "        print(\"Job completed\")\n",
    "    else:\n",
    "        print(\"Job failed. Check the DART log for details.\")"
   ]
  },
  {
   "cell_type": "code",
   "execution_count": null,
   "id": "ed168958",
   "metadata": {},
   "outputs": [],
   "source": [
    "def batch_run(batch_path:str):\n",
    "    for path in next(os.walk(batch_path))[1]:\n",
    "        run_dart(path, \"Bag \" + path)"
   ]
  },
  {
   "cell_type": "code",
   "execution_count": null,
   "id": "e2644728",
   "metadata": {},
   "outputs": [],
   "source": [
    "batch_run('batchdir')"
   ]
  },
  {
   "cell_type": "code",
   "execution_count": null,
   "id": "10fc3a10",
   "metadata": {},
   "outputs": [],
   "source": [
    "run_dart(\n",
    "    path=\"6741478_01_Fernando_Rios_f295b6a8ebbcc2fe31dad26c914736d\",\n",
    "    bag_title=\"Data and Code for \\\"Software Research Survey - 2014\\\"\"\n",
    ")"
   ]
  },
  {
   "cell_type": "code",
   "execution_count": null,
   "id": "7b414575",
   "metadata": {},
   "outputs": [],
   "source": []
  }
 ],
 "metadata": {
  "kernelspec": {
   "display_name": "Python 3 (ipykernel)",
   "language": "python",
   "name": "python3"
  },
  "language_info": {
   "codemirror_mode": {
    "name": "ipython",
    "version": 3
   },
   "file_extension": ".py",
   "mimetype": "text/x-python",
   "name": "python",
   "nbconvert_exporter": "python",
   "pygments_lexer": "ipython3",
   "version": "3.9.13"
  }
 },
 "nbformat": 4,
 "nbformat_minor": 5
}
